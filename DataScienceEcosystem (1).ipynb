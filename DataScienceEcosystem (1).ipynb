{
 "cells": [
  {
   "cell_type": "markdown",
   "id": "7cfe258d-3901-4702-8287-6ee10e8613c4",
   "metadata": {
    "tags": []
   },
   "source": [
    "# Data Science Tools and Ecosystem"
   ]
  },
  {
   "cell_type": "markdown",
   "id": "4efbc7c5-1b31-410c-89b0-a9f72b7716bb",
   "metadata": {
    "tags": []
   },
   "source": [
    "## In this notebook, Data Science Tools and Ecosystem are summarized."
   ]
  },
  {
   "cell_type": "markdown",
   "id": "ad9d363a-5d99-4937-9c26-e7b70d4d2653",
   "metadata": {
    "tags": []
   },
   "source": [
    "Some of the popular languages that Data Scientists use are:\n",
    "    \n",
    "    1. Python\n",
    "    2. Julia\n",
    "    3. R\n",
    "    "
   ]
  },
  {
   "cell_type": "markdown",
   "id": "ba035fe4-cb9e-48f0-a06d-321f0759e349",
   "metadata": {},
   "source": [
    "1.Some of the commonly used libraries used by Data Scientists include:\n",
    "    \n",
    "    1.Pandas\n",
    "    2.NumPy\n",
    "    3.Seaborn\n"
   ]
  },
  {
   "cell_type": "markdown",
   "id": "1811681b-e977-4544-a0fa-67e2c1a6c482",
   "metadata": {
    "tags": []
   },
   "source": [
    "|Data Science Tools|\n",
    "|------------------|\n",
    "|MongoDB|\n",
    "|TensorFlow|\n",
    "|MySQL|"
   ]
  },
  {
   "cell_type": "markdown",
   "id": "05a5de04-b127-40cb-96af-84e56950f401",
   "metadata": {
    "tags": []
   },
   "source": [
    "### Below are a few examples of evaluating arithmetic expressions in Python."
   ]
  },
  {
   "cell_type": "code",
   "execution_count": null,
   "id": "efeeb2e8-0b13-44eb-8634-27321b2d625b",
   "metadata": {},
   "outputs": [
    {
     "data": {
      "text/plain": [
       "17"
      ]
     },
     "execution_count": 14,
     "metadata": {},
     "output_type": "execute_result"
    }
   ],
   "source": [
    "##This a simple arithmetic expression to mutiply then add integers\n",
    "(3*4)+5"
   ]
  },
  {
   "cell_type": "code",
   "execution_count": null,
   "id": "93364c81-0da6-48c5-bb99-05fb3e0ce49d",
   "metadata": {},
   "outputs": [
    {
     "data": {
      "text/plain": [
       "3.3333333333333335"
      ]
     },
     "execution_count": 15,
     "metadata": {},
     "output_type": "execute_result"
    }
   ],
   "source": [
    "##This will convert 200 minutes to hours by diving by 60\n",
    "200/60"
   ]
  },
  {
   "cell_type": "markdown",
   "id": "28c363ae-92aa-4c67-8a6d-60599b8157f0",
   "metadata": {},
   "source": [
    "-List popular languages for Data Science\n",
    "    \n",
    "    *Python\n",
    "    *Julia\n",
    "    *R"
   ]
  },
  {
   "cell_type": "markdown",
   "id": "c875107d-36ce-49ce-86d4-c20ce22b410c",
   "metadata": {},
   "source": [
    "## Author\n",
    "    Atalay E."
   ]
  }
 ],
 "metadata": {
  "kernelspec": {
   "display_name": "Python 3 (ipykernel)",
   "language": "python",
   "name": "python3"
  },
  "language_info": {
   "codemirror_mode": {
    "name": "ipython",
    "version": 3
   },
   "file_extension": ".py",
   "mimetype": "text/x-python",
   "name": "python",
   "nbconvert_exporter": "python",
   "pygments_lexer": "ipython3",
   "version": "3.11.5"
  }
 },
 "nbformat": 4,
 "nbformat_minor": 5
}
